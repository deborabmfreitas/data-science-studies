{
 "cells": [
  {
   "cell_type": "markdown",
   "id": "8ed4b7de",
   "metadata": {},
   "source": [
    "# Intervalo de confiança\n",
    "\n",
    "- Fórmula do intervalo de confiança (IC)\n",
    "<div style=\"text-align: center; font-size: 20px;\">\n",
    "    $IC = \\bar{x} \\pm z_{\\alpha/2} \\frac{σ}{\\sqrt{n}}$\n",
    "</div>\n",
    "\n",
    "\n",
    "onde,\n",
    "\n",
    "x̅ = média da amostra  \n",
    "z = valor crítico associado ao nível de confiança (1 - α)  \n",
    "σ = desvio padrão da amostra  \n",
    "n = tamanho da amostra  "
   ]
  },
  {
   "cell_type": "markdown",
   "id": "c2bfd5d1",
   "metadata": {},
   "source": [
    "# Bibliotecas"
   ]
  },
  {
   "cell_type": "code",
   "execution_count": 33,
   "id": "e7b227a4",
   "metadata": {
    "ExecuteTime": {
     "end_time": "2023-05-19T13:47:45.756082Z",
     "start_time": "2023-05-19T13:47:45.748461Z"
    }
   },
   "outputs": [],
   "source": [
    "import numpy as np\n",
    "from scipy.stats import norm\n",
    "from scipy import stats\n",
    "import math\n",
    "\n",
    "import matplotlib.pyplot as plt\n",
    "import scienceplots"
   ]
  },
  {
   "cell_type": "markdown",
   "id": "1ca22484",
   "metadata": {},
   "source": [
    "# Implementação"
   ]
  },
  {
   "cell_type": "markdown",
   "id": "cccf3067",
   "metadata": {},
   "source": [
    "OBS: Dados de altura."
   ]
  },
  {
   "cell_type": "code",
   "execution_count": 2,
   "id": "2e1c16f0",
   "metadata": {
    "ExecuteTime": {
     "end_time": "2023-05-19T13:22:20.404796Z",
     "start_time": "2023-05-19T13:22:20.390434Z"
    }
   },
   "outputs": [],
   "source": [
    "dados = np.array([126. , 129.5, 133. , 133. , 136.5, 136.5, 140. , 140. , 140. ,\n",
    "                  140. , 143.5, 143.5, 143.5, 143.5, 143.5, 143.5, 147. , 147. ,\n",
    "                  147. , 147. , 147. , 147. , 147. , 150.5, 150.5, 150.5, 150.5,\n",
    "                  150.5, 150.5, 150.5, 150.5, 154. , 154. , 154. , 154. , 154. ,\n",
    "                  154. , 154. , 154. , 154. , 157.5, 157.5, 157.5, 157.5, 157.5,\n",
    "                  157.5, 157.5, 157.5, 157.5, 157.5, 161. , 161. , 161. , 161. ,\n",
    "                  161. , 161. , 161. , 161. , 161. , 161. , 164.5, 164.5, 164.5,\n",
    "                  164.5, 164.5, 164.5, 164.5, 164.5, 164.5, 168. , 168. , 168. ,\n",
    "                  168. , 168. , 168. , 168. , 168. , 171.5, 171.5, 171.5, 171.5,\n",
    "                  171.5, 171.5, 171.5, 175. , 175. , 175. , 175. , 175. , 175. ,\n",
    "                  178.5, 178.5, 178.5, 178.5, 182. , 182. , 185.5, 185.5, 189., 192.5])"
   ]
  },
  {
   "cell_type": "code",
   "execution_count": 43,
   "id": "0d8e6011",
   "metadata": {
    "ExecuteTime": {
     "end_time": "2023-05-19T13:51:38.169563Z",
     "start_time": "2023-05-19T13:51:37.098332Z"
    }
   },
   "outputs": [
    {
     "data": {
      "image/png": "[encoded data removed]",
      "text/plain": [
       "<Figure size 648x432 with 1 Axes>"
      ]
     },
     "metadata": {
      "needs_background": "light"
     },
     "output_type": "display_data"
    }
   ],
   "source": [
    "# Checando a distribuição dos dados\n",
    "\n",
    "plt.rcParams['font.size'] = 15\n",
    "plt.style.use('science')\n",
    "plt.rcParams['figure.figsize'] = (7,5)\n",
    "plt.rcParams['font.size'] = 15\n",
    "plt.rcParams['text.usetex'] = False\n",
    "\n",
    "plt.figure(figsize=(9,6))\n",
    "plt.hist(dados, edgecolor='gray')\n",
    "plt.ylabel('Alturas')\n",
    "plt.grid(True)\n",
    "plt.show();"
   ]
  },
  {
   "cell_type": "markdown",
   "id": "2a68190d",
   "metadata": {},
   "source": [
    "### Colocando dados na fórmula"
   ]
  },
  {
   "cell_type": "code",
   "execution_count": 4,
   "id": "f287660b",
   "metadata": {
    "ExecuteTime": {
     "end_time": "2023-05-19T13:30:55.159762Z",
     "start_time": "2023-05-19T13:30:55.121304Z"
    }
   },
   "outputs": [],
   "source": [
    "n = len(dados)\n",
    "media = np.mean(dados)\n",
    "desviop = np.std(dados)\n",
    "alpha = 0.05 / 2 # 95% de confiança\n",
    "z = norm.ppf(1 - alpha)"
   ]
  },
  {
   "cell_type": "code",
   "execution_count": 5,
   "id": "a0bcc26e",
   "metadata": {
    "ExecuteTime": {
     "end_time": "2023-05-19T13:31:05.889130Z",
     "start_time": "2023-05-19T13:31:05.853042Z"
    }
   },
   "outputs": [
    {
     "data": {
      "text/plain": [
       "(100, 159.25, 13.65, 0.025, 1.959963984540054)"
      ]
     },
     "execution_count": 5,
     "metadata": {},
     "output_type": "execute_result"
    }
   ],
   "source": [
    "n, media, desviop, alpha, z"
   ]
  },
  {
   "cell_type": "markdown",
   "id": "06792b3a",
   "metadata": {},
   "source": [
    "### Calculando intervalos"
   ]
  },
  {
   "cell_type": "code",
   "execution_count": 10,
   "id": "265032f7",
   "metadata": {
    "ExecuteTime": {
     "end_time": "2023-05-19T13:34:00.613981Z",
     "start_time": "2023-05-19T13:34:00.592550Z"
    }
   },
   "outputs": [],
   "source": [
    "x_superior = media + z * (desviop / math.sqrt(n))\n",
    "x_inferior = media - z * (desviop / math.sqrt(n))"
   ]
  },
  {
   "cell_type": "code",
   "execution_count": 11,
   "id": "5cd7d426",
   "metadata": {
    "ExecuteTime": {
     "end_time": "2023-05-19T13:34:02.541621Z",
     "start_time": "2023-05-19T13:34:02.518538Z"
    }
   },
   "outputs": [
    {
     "data": {
      "text/plain": [
       "(156.57464916110283, 159.25, 161.92535083889717)"
      ]
     },
     "execution_count": 11,
     "metadata": {},
     "output_type": "execute_result"
    }
   ],
   "source": [
    "x_inferior, media,  x_superior"
   ]
  },
  {
   "cell_type": "markdown",
   "id": "a9603d7a",
   "metadata": {},
   "source": [
    "### Colocando a margem de erro"
   ]
  },
  {
   "cell_type": "code",
   "execution_count": 12,
   "id": "f957541b",
   "metadata": {
    "ExecuteTime": {
     "end_time": "2023-05-19T13:35:04.534338Z",
     "start_time": "2023-05-19T13:35:04.507143Z"
    }
   },
   "outputs": [
    {
     "data": {
      "text/plain": [
       "2.675350838897174"
      ]
     },
     "execution_count": 12,
     "metadata": {},
     "output_type": "execute_result"
    }
   ],
   "source": [
    "margem_erro = abs(media - x_superior)\n",
    "margem_erro"
   ]
  },
  {
   "cell_type": "markdown",
   "id": "bd1a4fd1",
   "metadata": {},
   "source": [
    "# Implementação com o Scipy"
   ]
  },
  {
   "cell_type": "markdown",
   "id": "43935323",
   "metadata": {},
   "source": [
    "σ / √n"
   ]
  },
  {
   "cell_type": "code",
   "execution_count": 44,
   "id": "811e96b1",
   "metadata": {
    "ExecuteTime": {
     "end_time": "2023-05-19T13:55:26.922915Z",
     "start_time": "2023-05-19T13:55:26.903375Z"
    }
   },
   "outputs": [
    {
     "data": {
      "text/plain": [
       "1.3718766178288244"
      ]
     },
     "execution_count": 44,
     "metadata": {},
     "output_type": "execute_result"
    }
   ],
   "source": [
    "stats.sem(dados)"
   ]
  },
  {
   "cell_type": "code",
   "execution_count": 51,
   "id": "d3152488",
   "metadata": {
    "ExecuteTime": {
     "end_time": "2023-05-19T14:00:56.900881Z",
     "start_time": "2023-05-19T14:00:56.890040Z"
    }
   },
   "outputs": [
    {
     "data": {
      "text/plain": [
       "1.3718766178288246"
      ]
     },
     "execution_count": 51,
     "metadata": {},
     "output_type": "execute_result"
    }
   ],
   "source": [
    "desviop / math.sqrt(n-1)"
   ]
  },
  {
   "cell_type": "code",
   "execution_count": 46,
   "id": "716393ac",
   "metadata": {
    "ExecuteTime": {
     "end_time": "2023-05-19T13:57:49.181475Z",
     "start_time": "2023-05-19T13:57:49.172517Z"
    }
   },
   "outputs": [],
   "source": [
    "# Calculando os intervalos com o stats"
   ]
  },
  {
   "cell_type": "code",
   "execution_count": 48,
   "id": "1637ba55",
   "metadata": {
    "ExecuteTime": {
     "end_time": "2023-05-19T13:58:23.322363Z",
     "start_time": "2023-05-19T13:58:23.304541Z"
    }
   },
   "outputs": [
    {
     "data": {
      "text/plain": [
       "(156.5611712378229, 161.9388287621771)"
      ]
     },
     "execution_count": 48,
     "metadata": {},
     "output_type": "execute_result"
    }
   ],
   "source": [
    "intervalos = norm.interval(0.95, media, stats.sem(dados))\n",
    "intervalos "
   ]
  },
  {
   "cell_type": "code",
   "execution_count": 50,
   "id": "ebb74904",
   "metadata": {
    "ExecuteTime": {
     "end_time": "2023-05-19T13:59:31.028276Z",
     "start_time": "2023-05-19T13:59:31.014285Z"
    }
   },
   "outputs": [
    {
     "data": {
      "text/plain": [
       "array([ 2.68882876, -2.68882876])"
      ]
     },
     "execution_count": 50,
     "metadata": {},
     "output_type": "execute_result"
    }
   ],
   "source": [
    "margem_erro = media - intervalos\n",
    "margem_erro"
   ]
  },
  {
   "cell_type": "markdown",
   "id": "406fc778",
   "metadata": {},
   "source": [
    "# Testes com diferentes níveis de confiança"
   ]
  },
  {
   "cell_type": "code",
   "execution_count": 55,
   "id": "28d9bbed",
   "metadata": {
    "ExecuteTime": {
     "end_time": "2023-05-19T14:06:39.137165Z",
     "start_time": "2023-05-19T14:06:39.133478Z"
    }
   },
   "outputs": [],
   "source": [
    "# 0.99"
   ]
  },
  {
   "cell_type": "code",
   "execution_count": 53,
   "id": "c5c0c0c0",
   "metadata": {
    "ExecuteTime": {
     "end_time": "2023-05-19T14:01:36.128373Z",
     "start_time": "2023-05-19T14:01:36.117574Z"
    }
   },
   "outputs": [
    {
     "data": {
      "text/plain": [
       "(155.71628000694295, 162.78371999305705)"
      ]
     },
     "execution_count": 53,
     "metadata": {},
     "output_type": "execute_result"
    }
   ],
   "source": [
    "intervalos = norm.interval(0.99, media, stats.sem(dados))\n",
    "intervalos"
   ]
  },
  {
   "cell_type": "code",
   "execution_count": 54,
   "id": "315def70",
   "metadata": {
    "ExecuteTime": {
     "end_time": "2023-05-19T14:02:31.937870Z",
     "start_time": "2023-05-19T14:02:31.923996Z"
    }
   },
   "outputs": [
    {
     "data": {
      "text/plain": [
       "array([ 3.53371999, -3.53371999])"
      ]
     },
     "execution_count": 54,
     "metadata": {},
     "output_type": "execute_result"
    }
   ],
   "source": [
    "margem_erro = media - intervalos\n",
    "margem_erro"
   ]
  },
  {
   "cell_type": "markdown",
   "id": "4d1d19d9",
   "metadata": {},
   "source": [
    "**OBS**: observar que com o nível de confiança maior, maior também a faixa de valores (intervalos mais abertos), indicando que os registros da população possuem mais chances de cair nesse intervalo do que no de um nível de confiança menor. Ainda nesse intuito, vê-se que a margem de erro é maior quando o nível de confiança também é maior. "
   ]
  },
  {
   "cell_type": "code",
   "execution_count": 56,
   "id": "e300acef",
   "metadata": {
    "ExecuteTime": {
     "end_time": "2023-05-19T14:07:03.904878Z",
     "start_time": "2023-05-19T14:07:03.899195Z"
    }
   },
   "outputs": [],
   "source": [
    "# 0.80"
   ]
  },
  {
   "cell_type": "code",
   "execution_count": 57,
   "id": "90a1fc6d",
   "metadata": {
    "ExecuteTime": {
     "end_time": "2023-05-19T14:07:21.949840Z",
     "start_time": "2023-05-19T14:07:21.927711Z"
    }
   },
   "outputs": [
    {
     "data": {
      "text/plain": [
       "(157.49186937268743, 161.00813062731257)"
      ]
     },
     "execution_count": 57,
     "metadata": {},
     "output_type": "execute_result"
    }
   ],
   "source": [
    "intervalos = norm.interval(0.80, media, stats.sem(dados))\n",
    "intervalos"
   ]
  },
  {
   "cell_type": "code",
   "execution_count": 58,
   "id": "8b35ddd6",
   "metadata": {
    "ExecuteTime": {
     "end_time": "2023-05-19T14:07:32.936811Z",
     "start_time": "2023-05-19T14:07:32.920368Z"
    }
   },
   "outputs": [
    {
     "data": {
      "text/plain": [
       "array([ 1.75813063, -1.75813063])"
      ]
     },
     "execution_count": 58,
     "metadata": {},
     "output_type": "execute_result"
    }
   ],
   "source": [
    "margem_erro = media - intervalos\n",
    "margem_erro"
   ]
  }
 ],
 "metadata": {
  "kernelspec": {
   "display_name": "Python 3 (ipykernel)",
   "language": "python",
   "name": "python3"
  },
  "language_info": {
   "codemirror_mode": {
    "name": "ipython",
    "version": 3
   },
   "file_extension": ".py",
   "mimetype": "text/x-python",
   "name": "python",
   "nbconvert_exporter": "python",
   "pygments_lexer": "ipython3",
   "version": "3.10.6"
  },
  "varInspector": {
   "cols": {
    "lenName": 16,
    "lenType": 16,
    "lenVar": 40
   },
   "kernels_config": {
    "python": {
     "delete_cmd_postfix": "",
     "delete_cmd_prefix": "del ",
     "library": "var_list.py",
     "varRefreshCmd": "print(var_dic_list())"
    },
    "r": {
     "delete_cmd_postfix": ") ",
     "delete_cmd_prefix": "rm(",
     "library": "var_list.r",
     "varRefreshCmd": "cat(var_dic_list()) "
    }
   },
   "types_to_exclude": [
    "module",
    "function",
    "builtin_function_or_method",
    "instance",
    "_Feature"
   ],
   "window_display": false
  }
 },
 "nbformat": 4,
 "nbformat_minor": 5
}
