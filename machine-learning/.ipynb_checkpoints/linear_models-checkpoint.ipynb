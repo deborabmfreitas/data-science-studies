{
 "cells": [
  {
   "cell_type": "markdown",
   "id": "ba7819b4",
   "metadata": {},
   "source": [
    "# Machine learning: modelos lineares"
   ]
  },
  {
   "cell_type": "markdown",
   "id": "37834b39",
   "metadata": {},
   "source": [
    "Esse mini-projeto possui fins exploratórios envolvendo as principais métricas usadas em regressão. Trata-se de uma previsão de peso `'Weight'` com base na altura `'Height'`."
   ]
  },
  {
   "cell_type": "markdown",
   "id": "ee683df8",
   "metadata": {},
   "source": [
    "### Algoritmos de regressão linear estudados\n",
    "\n",
    "1. Linear Regression\n",
    "2. Ridge regression\n",
    "3. Lasso\n",
    "4. ElasticNet\n",
    "5. SVM (Support Vector Machine)"
   ]
  },
  {
   "cell_type": "markdown",
   "id": "d65b8745",
   "metadata": {},
   "source": [
    "### Métricas estudadas\n",
    "\n",
    "1. R² (Coeficiente de Determinação)\n",
    "\n",
    "\n",
    "\n",
    "<div style=\"text-align: center; font-size: 15px;\">\n",
    "    $R^2 = 1 - \\frac{SSE}{SSTO}$\n",
    "</div>\n",
    "\n",
    "\n",
    "2. MSE (Erro Médio Quadrático)\n",
    "\n",
    "<div style=\"text-align: center; font-size: 15px;\">\n",
    "    $MSE = \\frac{1}{n} \\sum_{i=1}^n (y_i - {ŷ})^2$\n",
    "</div>\n",
    "\n",
    "\n",
    "3. RMSE (Raiz Quadrada do Erro Médio Quadrático)\n",
    "\n",
    "<div style=\"text-align: center; font-size: 15px;\">\n",
    "    $RMSE = \\sqrt{MSE}$\n",
    "</div>\n",
    "\n",
    "4. RMSPE (Raiz Quadrada do Erro Médio Percentual ao Quadrado)\n",
    "\n",
    "<div style=\"text-align: center; font-size: 15px;\">\n",
    "    $RMSPE = \\sqrt{\\frac{\\sum_{i=1}^n \\left(\\frac{y_i - \\bar{y}}{y_i}\\right)^2}{n}}$\n",
    "</div>\n",
    "\n",
    "5. MAE (Erro Absoluto Médio)\n",
    "\n",
    "<div style=\"text-align: center; font-size: 15px;\">\n",
    "    $MAE = \\frac{1}{n} \\sum_{i=1}^n |y_i - \\bar{y}|$\n",
    "</div>\n",
    "\n",
    "6. MAPE (Erro Percentual Absoluto Médio)\n",
    "\n",
    "<div style=\"text-align: center; font-size: 15px;\">\n",
    "    $MAPE = \\frac{1}{n} \\sum_{i=1}^n \\left(\\frac{|y_i - \\bar{y}|}{y_i}\\right) \\times 100$\n",
    "</div>\n",
    "\n",
    "7. ME (Erro médio)\n",
    "<div style=\"text-align: center; font-size: 15px;\">\n",
    "    $ME = \\frac{\\sum_{i=1}^n (y_i - \\bar{y})}{n}$\n",
    "</div>\n",
    "\n",
    "8. MAD (Desvio Absoluto Médio)\n",
    "\n",
    "<div style=\"text-align: center; font-size: 15px;\">\n",
    "    $MAD = \\frac{1}{n} \\sum_{i=1}^n |y_i - \\bar{y}|$\n",
    "</div>"
   ]
  },
  {
   "cell_type": "markdown",
   "id": "9e374ceb",
   "metadata": {},
   "source": [
    "# Bibliotecas/Frameworks"
   ]
  },
  {
   "cell_type": "code",
   "execution_count": 1,
   "id": "ace70b79",
   "metadata": {
    "ExecuteTime": {
     "end_time": "2023-05-11T21:59:01.923273Z",
     "start_time": "2023-05-11T21:58:58.115222Z"
    }
   },
   "outputs": [],
   "source": [
    "# gerais\n",
    "\n",
    "import pandas as pd\n",
    "import numpy as np\n",
    "import matplotlib.pyplot as plt\n",
    "import seaborn as sns\n",
    "from sklearn.model_selection import train_test_split\n",
    "\n",
    "# algoritmos de ml\n",
    "\n",
    "from sklearn.linear_model import LinearRegression, Ridge, Lasso, ElasticNet, SGDRegressor\n",
    "from sklearn.svm import SVR\n",
    "\n",
    "# métricas\n",
    "\n",
    "from sklearn.metrics import r2_score, mean_squared_error, mean_absolute_error, mean_absolute_percentage_error\n",
    "from math import sqrt"
   ]
  },
  {
   "cell_type": "markdown",
   "id": "63921b8f",
   "metadata": {},
   "source": [
    "# Funções auxiliares"
   ]
  },
  {
   "cell_type": "code",
   "execution_count": 2,
   "id": "54f9d927",
   "metadata": {
    "ExecuteTime": {
     "end_time": "2023-05-11T21:59:01.946499Z",
     "start_time": "2023-05-11T21:59:01.930391Z"
    }
   },
   "outputs": [],
   "source": [
    "def ml_error(model_name, y_test, y_pred):\n",
    "    r2 = r2_score(y_test, y_pred)\n",
    "    mse = mean_squared_error(y_test, y_pred)\n",
    "    rmse = np.sqrt(mean_squared_error(y_test, y_pred))\n",
    "    rmspe = np.sqrt(mean_squared_error(y_test, y_pred)) / np.mean(y_test)\n",
    "    mae = mean_absolute_error(y_test, y_pred)\n",
    "    mape = mean_absolute_percentage_error(y_test, y_pred) * 100\n",
    "    me = np.mean(y_pred - y_test)\n",
    "    mad = np.mean(np.abs(y_pred - y_test))\n",
    "    \n",
    "    return pd.DataFrame([{'Model': model_name, 'R²': r2, 'MSE': mse, 'RMSE': rmse, 'RMSPE': rmspe,\n",
    "                          'MAE': mae, 'MAPE': mape, 'ME': me, 'MAD': mad}], index=[0])"
   ]
  },
  {
   "cell_type": "markdown",
   "id": "6ffe7fee",
   "metadata": {},
   "source": [
    "# Importando os dados"
   ]
  },
  {
   "cell_type": "code",
   "execution_count": 3,
   "id": "642fdd53",
   "metadata": {
    "ExecuteTime": {
     "end_time": "2023-05-11T21:59:02.007886Z",
     "start_time": "2023-05-11T21:59:01.951468Z"
    }
   },
   "outputs": [],
   "source": [
    "df = pd.read_csv('data/linear-regression.csv',index_col=0)"
   ]
  },
  {
   "cell_type": "code",
   "execution_count": 4,
   "id": "dbed0545",
   "metadata": {
    "ExecuteTime": {
     "end_time": "2023-05-11T21:59:02.063077Z",
     "start_time": "2023-05-11T21:59:02.012014Z"
    }
   },
   "outputs": [
    {
     "data": {
      "text/html": [
       "<div>\n",
       "<style scoped>\n",
       "    .dataframe tbody tr th:only-of-type {\n",
       "        vertical-align: middle;\n",
       "    }\n",
       "\n",
       "    .dataframe tbody tr th {\n",
       "        vertical-align: top;\n",
       "    }\n",
       "\n",
       "    .dataframe thead th {\n",
       "        text-align: right;\n",
       "    }\n",
       "</style>\n",
       "<table border=\"1\" class=\"dataframe\">\n",
       "  <thead>\n",
       "    <tr style=\"text-align: right;\">\n",
       "      <th></th>\n",
       "      <th>Height(Inches)</th>\n",
       "      <th>Weight(Pounds)</th>\n",
       "    </tr>\n",
       "    <tr>\n",
       "      <th>Index</th>\n",
       "      <th></th>\n",
       "      <th></th>\n",
       "    </tr>\n",
       "  </thead>\n",
       "  <tbody>\n",
       "    <tr>\n",
       "      <th>1</th>\n",
       "      <td>65.78331</td>\n",
       "      <td>112.9925</td>\n",
       "    </tr>\n",
       "    <tr>\n",
       "      <th>2</th>\n",
       "      <td>71.51521</td>\n",
       "      <td>136.4873</td>\n",
       "    </tr>\n",
       "    <tr>\n",
       "      <th>3</th>\n",
       "      <td>69.39874</td>\n",
       "      <td>153.0269</td>\n",
       "    </tr>\n",
       "    <tr>\n",
       "      <th>4</th>\n",
       "      <td>68.21660</td>\n",
       "      <td>142.3354</td>\n",
       "    </tr>\n",
       "    <tr>\n",
       "      <th>5</th>\n",
       "      <td>67.78781</td>\n",
       "      <td>144.2971</td>\n",
       "    </tr>\n",
       "    <tr>\n",
       "      <th>...</th>\n",
       "      <td>...</td>\n",
       "      <td>...</td>\n",
       "    </tr>\n",
       "    <tr>\n",
       "      <th>24996</th>\n",
       "      <td>69.50215</td>\n",
       "      <td>118.0312</td>\n",
       "    </tr>\n",
       "    <tr>\n",
       "      <th>24997</th>\n",
       "      <td>64.54826</td>\n",
       "      <td>120.1932</td>\n",
       "    </tr>\n",
       "    <tr>\n",
       "      <th>24998</th>\n",
       "      <td>64.69855</td>\n",
       "      <td>118.2655</td>\n",
       "    </tr>\n",
       "    <tr>\n",
       "      <th>24999</th>\n",
       "      <td>67.52918</td>\n",
       "      <td>132.2682</td>\n",
       "    </tr>\n",
       "    <tr>\n",
       "      <th>25000</th>\n",
       "      <td>68.87761</td>\n",
       "      <td>124.8742</td>\n",
       "    </tr>\n",
       "  </tbody>\n",
       "</table>\n",
       "<p>25000 rows × 2 columns</p>\n",
       "</div>"
      ],
      "text/plain": [
       "       Height(Inches)  Weight(Pounds)\n",
       "Index                                \n",
       "1            65.78331        112.9925\n",
       "2            71.51521        136.4873\n",
       "3            69.39874        153.0269\n",
       "4            68.21660        142.3354\n",
       "5            67.78781        144.2971\n",
       "...               ...             ...\n",
       "24996        69.50215        118.0312\n",
       "24997        64.54826        120.1932\n",
       "24998        64.69855        118.2655\n",
       "24999        67.52918        132.2682\n",
       "25000        68.87761        124.8742\n",
       "\n",
       "[25000 rows x 2 columns]"
      ]
     },
     "execution_count": 4,
     "metadata": {},
     "output_type": "execute_result"
    }
   ],
   "source": [
    "df"
   ]
  },
  {
   "cell_type": "markdown",
   "id": "10743878",
   "metadata": {},
   "source": [
    "# Inspecionando os dados"
   ]
  },
  {
   "cell_type": "code",
   "execution_count": 5,
   "id": "a72ffc99",
   "metadata": {
    "ExecuteTime": {
     "end_time": "2023-05-11T21:59:02.097860Z",
     "start_time": "2023-05-11T21:59:02.066786Z"
    }
   },
   "outputs": [
    {
     "name": "stdout",
     "output_type": "stream",
     "text": [
      "<class 'pandas.core.frame.DataFrame'>\n",
      "Int64Index: 25000 entries, 1 to 25000\n",
      "Data columns (total 2 columns):\n",
      " #   Column          Non-Null Count  Dtype  \n",
      "---  ------          --------------  -----  \n",
      " 0   Height(Inches)  25000 non-null  float64\n",
      " 1   Weight(Pounds)  25000 non-null  float64\n",
      "dtypes: float64(2)\n",
      "memory usage: 585.9 KB\n"
     ]
    }
   ],
   "source": [
    "df.info()"
   ]
  },
  {
   "cell_type": "code",
   "execution_count": 6,
   "id": "b04f494f",
   "metadata": {
    "ExecuteTime": {
     "end_time": "2023-05-11T21:59:02.153289Z",
     "start_time": "2023-05-11T21:59:02.101511Z"
    }
   },
   "outputs": [
    {
     "data": {
      "text/html": [
       "<div>\n",
       "<style scoped>\n",
       "    .dataframe tbody tr th:only-of-type {\n",
       "        vertical-align: middle;\n",
       "    }\n",
       "\n",
       "    .dataframe tbody tr th {\n",
       "        vertical-align: top;\n",
       "    }\n",
       "\n",
       "    .dataframe thead th {\n",
       "        text-align: right;\n",
       "    }\n",
       "</style>\n",
       "<table border=\"1\" class=\"dataframe\">\n",
       "  <thead>\n",
       "    <tr style=\"text-align: right;\">\n",
       "      <th></th>\n",
       "      <th>Height(Inches)</th>\n",
       "      <th>Weight(Pounds)</th>\n",
       "    </tr>\n",
       "  </thead>\n",
       "  <tbody>\n",
       "    <tr>\n",
       "      <th>count</th>\n",
       "      <td>25000.000000</td>\n",
       "      <td>25000.000000</td>\n",
       "    </tr>\n",
       "    <tr>\n",
       "      <th>mean</th>\n",
       "      <td>67.993114</td>\n",
       "      <td>127.079421</td>\n",
       "    </tr>\n",
       "    <tr>\n",
       "      <th>std</th>\n",
       "      <td>1.901679</td>\n",
       "      <td>11.660898</td>\n",
       "    </tr>\n",
       "    <tr>\n",
       "      <th>min</th>\n",
       "      <td>60.278360</td>\n",
       "      <td>78.014760</td>\n",
       "    </tr>\n",
       "    <tr>\n",
       "      <th>25%</th>\n",
       "      <td>66.704397</td>\n",
       "      <td>119.308675</td>\n",
       "    </tr>\n",
       "    <tr>\n",
       "      <th>50%</th>\n",
       "      <td>67.995700</td>\n",
       "      <td>127.157750</td>\n",
       "    </tr>\n",
       "    <tr>\n",
       "      <th>75%</th>\n",
       "      <td>69.272958</td>\n",
       "      <td>134.892850</td>\n",
       "    </tr>\n",
       "    <tr>\n",
       "      <th>max</th>\n",
       "      <td>75.152800</td>\n",
       "      <td>170.924000</td>\n",
       "    </tr>\n",
       "  </tbody>\n",
       "</table>\n",
       "</div>"
      ],
      "text/plain": [
       "       Height(Inches)  Weight(Pounds)\n",
       "count    25000.000000    25000.000000\n",
       "mean        67.993114      127.079421\n",
       "std          1.901679       11.660898\n",
       "min         60.278360       78.014760\n",
       "25%         66.704397      119.308675\n",
       "50%         67.995700      127.157750\n",
       "75%         69.272958      134.892850\n",
       "max         75.152800      170.924000"
      ]
     },
     "execution_count": 6,
     "metadata": {},
     "output_type": "execute_result"
    }
   ],
   "source": [
    "df.describe()"
   ]
  },
  {
   "cell_type": "code",
   "execution_count": 7,
   "id": "9ebb7d23",
   "metadata": {
    "ExecuteTime": {
     "end_time": "2023-05-11T21:59:03.119840Z",
     "start_time": "2023-05-11T21:59:02.160634Z"
    }
   },
   "outputs": [
    {
     "data": {
      "image/png": "[encoded data removed]",
      "text/plain": [
       "<Figure size 1440x360 with 2 Axes>"
      ]
     },
     "metadata": {
      "needs_background": "light"
     },
     "output_type": "display_data"
    }
   ],
   "source": [
    "df.hist(figsize=(20, 5), bins=25);"
   ]
  },
  {
   "cell_type": "code",
   "execution_count": 8,
   "id": "00f999a6",
   "metadata": {
    "ExecuteTime": {
     "end_time": "2023-05-11T21:59:03.701038Z",
     "start_time": "2023-05-11T21:59:03.127771Z"
    }
   },
   "outputs": [
    {
     "data": {
      "text/plain": [
       "<AxesSubplot: xlabel='Height(Inches)', ylabel='Weight(Pounds)'>"
      ]
     },
     "execution_count": 8,
     "metadata": {},
     "output_type": "execute_result"
    },
    {
     "data": {
      "image/png": "[encoded data removed]",
      "text/plain": [
       "<Figure size 432x288 with 1 Axes>"
      ]
     },
     "metadata": {
      "needs_background": "light"
     },
     "output_type": "display_data"
    }
   ],
   "source": [
    "sns.scatterplot(data=df, x='Height(Inches)', y='Weight(Pounds)')"
   ]
  },
  {
   "cell_type": "code",
   "execution_count": 9,
   "id": "d435cae5",
   "metadata": {
    "ExecuteTime": {
     "end_time": "2023-05-11T21:59:04.066062Z",
     "start_time": "2023-05-11T21:59:03.706518Z"
    }
   },
   "outputs": [
    {
     "data": {
      "text/plain": [
       "<AxesSubplot: >"
      ]
     },
     "execution_count": 9,
     "metadata": {},
     "output_type": "execute_result"
    },
    {
     "data": {
      "image/png": "[encoded data removed]",
      "text/plain": [
       "<Figure size 432x288 with 2 Axes>"
      ]
     },
     "metadata": {
      "needs_background": "light"
     },
     "output_type": "display_data"
    }
   ],
   "source": [
    "sns.heatmap(df.corr(), annot=True)"
   ]
  },
  {
   "cell_type": "markdown",
   "id": "c8ff4cdf",
   "metadata": {},
   "source": [
    "# Convertendo unidades dos dados"
   ]
  },
  {
   "cell_type": "code",
   "execution_count": 10,
   "id": "117b5629",
   "metadata": {
    "ExecuteTime": {
     "end_time": "2023-05-11T21:59:04.080171Z",
     "start_time": "2023-05-11T21:59:04.069694Z"
    }
   },
   "outputs": [
    {
     "data": {
      "text/plain": [
       "Index(['Height(Inches)', 'Weight(Pounds)'], dtype='object')"
      ]
     },
     "execution_count": 10,
     "metadata": {},
     "output_type": "execute_result"
    }
   ],
   "source": [
    "df.columns"
   ]
  },
  {
   "cell_type": "code",
   "execution_count": 11,
   "id": "32f08e93",
   "metadata": {
    "ExecuteTime": {
     "end_time": "2023-05-11T21:59:04.141264Z",
     "start_time": "2023-05-11T21:59:04.084198Z"
    }
   },
   "outputs": [],
   "source": [
    "# Height: in -> cm = 2.54\n",
    "\n",
    "df['Height(Centimeters)'] = df['Height(Inches)'].apply(lambda x: x * 2.54)"
   ]
  },
  {
   "cell_type": "code",
   "execution_count": 12,
   "id": "629db721",
   "metadata": {
    "ExecuteTime": {
     "end_time": "2023-05-11T21:59:04.172563Z",
     "start_time": "2023-05-11T21:59:04.146724Z"
    }
   },
   "outputs": [],
   "source": [
    "# Weight: lb -> kg = 0.45\n",
    "\n",
    "df['Weight(Kg)'] = df['Weight(Pounds)'].apply(lambda x: x * 0.45)"
   ]
  },
  {
   "cell_type": "code",
   "execution_count": 13,
   "id": "00b5f0e5",
   "metadata": {
    "ExecuteTime": {
     "end_time": "2023-05-11T21:59:04.190082Z",
     "start_time": "2023-05-11T21:59:04.176285Z"
    }
   },
   "outputs": [],
   "source": [
    "df = df.drop(['Height(Inches)', 'Weight(Pounds)'], axis=1)"
   ]
  },
  {
   "cell_type": "code",
   "execution_count": 14,
   "id": "e57d59c6",
   "metadata": {
    "ExecuteTime": {
     "end_time": "2023-05-11T21:59:04.218914Z",
     "start_time": "2023-05-11T21:59:04.193809Z"
    }
   },
   "outputs": [
    {
     "data": {
      "text/html": [
       "<div>\n",
       "<style scoped>\n",
       "    .dataframe tbody tr th:only-of-type {\n",
       "        vertical-align: middle;\n",
       "    }\n",
       "\n",
       "    .dataframe tbody tr th {\n",
       "        vertical-align: top;\n",
       "    }\n",
       "\n",
       "    .dataframe thead th {\n",
       "        text-align: right;\n",
       "    }\n",
       "</style>\n",
       "<table border=\"1\" class=\"dataframe\">\n",
       "  <thead>\n",
       "    <tr style=\"text-align: right;\">\n",
       "      <th></th>\n",
       "      <th>Height(Centimeters)</th>\n",
       "      <th>Weight(Kg)</th>\n",
       "    </tr>\n",
       "    <tr>\n",
       "      <th>Index</th>\n",
       "      <th></th>\n",
       "      <th></th>\n",
       "    </tr>\n",
       "  </thead>\n",
       "  <tbody>\n",
       "    <tr>\n",
       "      <th>1</th>\n",
       "      <td>167.089607</td>\n",
       "      <td>50.846625</td>\n",
       "    </tr>\n",
       "    <tr>\n",
       "      <th>2</th>\n",
       "      <td>181.648633</td>\n",
       "      <td>61.419285</td>\n",
       "    </tr>\n",
       "    <tr>\n",
       "      <th>3</th>\n",
       "      <td>176.272800</td>\n",
       "      <td>68.862105</td>\n",
       "    </tr>\n",
       "    <tr>\n",
       "      <th>4</th>\n",
       "      <td>173.270164</td>\n",
       "      <td>64.050930</td>\n",
       "    </tr>\n",
       "    <tr>\n",
       "      <th>5</th>\n",
       "      <td>172.181037</td>\n",
       "      <td>64.933695</td>\n",
       "    </tr>\n",
       "    <tr>\n",
       "      <th>...</th>\n",
       "      <td>...</td>\n",
       "      <td>...</td>\n",
       "    </tr>\n",
       "    <tr>\n",
       "      <th>24996</th>\n",
       "      <td>176.535461</td>\n",
       "      <td>53.114040</td>\n",
       "    </tr>\n",
       "    <tr>\n",
       "      <th>24997</th>\n",
       "      <td>163.952580</td>\n",
       "      <td>54.086940</td>\n",
       "    </tr>\n",
       "    <tr>\n",
       "      <th>24998</th>\n",
       "      <td>164.334317</td>\n",
       "      <td>53.219475</td>\n",
       "    </tr>\n",
       "    <tr>\n",
       "      <th>24999</th>\n",
       "      <td>171.524117</td>\n",
       "      <td>59.520690</td>\n",
       "    </tr>\n",
       "    <tr>\n",
       "      <th>25000</th>\n",
       "      <td>174.949129</td>\n",
       "      <td>56.193390</td>\n",
       "    </tr>\n",
       "  </tbody>\n",
       "</table>\n",
       "<p>25000 rows × 2 columns</p>\n",
       "</div>"
      ],
      "text/plain": [
       "       Height(Centimeters)  Weight(Kg)\n",
       "Index                                 \n",
       "1               167.089607   50.846625\n",
       "2               181.648633   61.419285\n",
       "3               176.272800   68.862105\n",
       "4               173.270164   64.050930\n",
       "5               172.181037   64.933695\n",
       "...                    ...         ...\n",
       "24996           176.535461   53.114040\n",
       "24997           163.952580   54.086940\n",
       "24998           164.334317   53.219475\n",
       "24999           171.524117   59.520690\n",
       "25000           174.949129   56.193390\n",
       "\n",
       "[25000 rows x 2 columns]"
      ]
     },
     "execution_count": 14,
     "metadata": {},
     "output_type": "execute_result"
    }
   ],
   "source": [
    "df"
   ]
  },
  {
   "cell_type": "markdown",
   "id": "41b2ec61",
   "metadata": {},
   "source": [
    "# Split do dataset em treino e teste"
   ]
  },
  {
   "cell_type": "code",
   "execution_count": 15,
   "id": "e9686016",
   "metadata": {
    "ExecuteTime": {
     "end_time": "2023-05-11T21:59:04.232888Z",
     "start_time": "2023-05-11T21:59:04.227307Z"
    }
   },
   "outputs": [],
   "source": [
    "X = df['Height(Centimeters)']\n",
    "y = df['Weight(Kg)']"
   ]
  },
  {
   "cell_type": "code",
   "execution_count": 16,
   "id": "7f3be276",
   "metadata": {
    "ExecuteTime": {
     "end_time": "2023-05-11T21:59:04.257212Z",
     "start_time": "2023-05-11T21:59:04.240731Z"
    }
   },
   "outputs": [],
   "source": [
    "X_train, X_test, y_train, y_test = train_test_split(X, y, test_size=0.2, random_state=42)"
   ]
  },
  {
   "cell_type": "code",
   "execution_count": 17,
   "id": "e03b88e1",
   "metadata": {
    "ExecuteTime": {
     "end_time": "2023-05-11T21:59:04.318456Z",
     "start_time": "2023-05-11T21:59:04.273368Z"
    }
   },
   "outputs": [
    {
     "data": {
      "text/plain": [
       "Index\n",
       "23312    172.590384\n",
       "23624    169.048684\n",
       "1021     177.932385\n",
       "12646    173.940876\n",
       "1534     167.924683\n",
       "            ...    \n",
       "21576    171.421425\n",
       "5391     169.990186\n",
       "861      173.719414\n",
       "15796    176.014659\n",
       "23655    170.505222\n",
       "Name: Height(Centimeters), Length: 20000, dtype: float64"
      ]
     },
     "metadata": {},
     "output_type": "display_data"
    },
    {
     "data": {
      "text/plain": [
       "Index\n",
       "23312    49.803570\n",
       "23624    57.153105\n",
       "1021     63.103410\n",
       "12646    59.877495\n",
       "1534     51.952185\n",
       "           ...    \n",
       "21576    50.185890\n",
       "5391     55.549395\n",
       "861      54.441405\n",
       "15796    61.041060\n",
       "23655    55.252170\n",
       "Name: Weight(Kg), Length: 20000, dtype: float64"
      ]
     },
     "metadata": {},
     "output_type": "display_data"
    },
    {
     "data": {
      "text/plain": [
       "Index\n",
       "6869     173.798154\n",
       "24017    172.457440\n",
       "9669     171.854419\n",
       "13641    175.292995\n",
       "14019    175.286797\n",
       "            ...    \n",
       "8671     175.098126\n",
       "11840    170.903621\n",
       "4014     174.170289\n",
       "21148    170.422875\n",
       "696      179.247267\n",
       "Name: Height(Centimeters), Length: 5000, dtype: float64"
      ]
     },
     "metadata": {},
     "output_type": "display_data"
    },
    {
     "data": {
      "text/plain": [
       "Index\n",
       "6869     60.428475\n",
       "24017    50.384970\n",
       "9669     61.194195\n",
       "13641    56.871090\n",
       "14019    45.081450\n",
       "           ...    \n",
       "8671     62.142345\n",
       "11840    47.344545\n",
       "4014     63.533655\n",
       "21148    58.286745\n",
       "696      60.638715\n",
       "Name: Weight(Kg), Length: 5000, dtype: float64"
      ]
     },
     "metadata": {},
     "output_type": "display_data"
    }
   ],
   "source": [
    "display(X_train)\n",
    "display(y_train)\n",
    "display(X_test)\n",
    "display(y_test)"
   ]
  },
  {
   "cell_type": "code",
   "execution_count": 18,
   "id": "08c7f2b0",
   "metadata": {
    "ExecuteTime": {
     "end_time": "2023-05-11T21:59:04.334884Z",
     "start_time": "2023-05-11T21:59:04.322618Z"
    }
   },
   "outputs": [],
   "source": [
    "# reshape"
   ]
  },
  {
   "cell_type": "code",
   "execution_count": 19,
   "id": "edaba82b",
   "metadata": {
    "ExecuteTime": {
     "end_time": "2023-05-11T21:59:04.344843Z",
     "start_time": "2023-05-11T21:59:04.338936Z"
    }
   },
   "outputs": [],
   "source": [
    "X_train = X_train.values.reshape(-1,1)"
   ]
  },
  {
   "cell_type": "code",
   "execution_count": 20,
   "id": "d0f81e36",
   "metadata": {
    "ExecuteTime": {
     "end_time": "2023-05-11T21:59:04.369822Z",
     "start_time": "2023-05-11T21:59:04.353761Z"
    }
   },
   "outputs": [],
   "source": [
    "X_test = X_test.values.reshape(-1,1)"
   ]
  },
  {
   "cell_type": "markdown",
   "id": "38ed8037",
   "metadata": {},
   "source": [
    "# Algoritmos de regressão linear"
   ]
  },
  {
   "cell_type": "markdown",
   "id": "f419b044",
   "metadata": {},
   "source": [
    "### LinearRegression"
   ]
  },
  {
   "cell_type": "code",
   "execution_count": 50,
   "id": "9ed16921",
   "metadata": {
    "ExecuteTime": {
     "end_time": "2023-05-11T22:35:43.263269Z",
     "start_time": "2023-05-11T22:35:43.189603Z"
    }
   },
   "outputs": [
    {
     "data": {
      "text/html": [
       "<div>\n",
       "<style scoped>\n",
       "    .dataframe tbody tr th:only-of-type {\n",
       "        vertical-align: middle;\n",
       "    }\n",
       "\n",
       "    .dataframe tbody tr th {\n",
       "        vertical-align: top;\n",
       "    }\n",
       "\n",
       "    .dataframe thead th {\n",
       "        text-align: right;\n",
       "    }\n",
       "</style>\n",
       "<table border=\"1\" class=\"dataframe\">\n",
       "  <thead>\n",
       "    <tr style=\"text-align: right;\">\n",
       "      <th></th>\n",
       "      <th>Model</th>\n",
       "      <th>R²</th>\n",
       "      <th>MSE</th>\n",
       "      <th>RMSE</th>\n",
       "      <th>RMSPE</th>\n",
       "      <th>MAE</th>\n",
       "      <th>MAPE</th>\n",
       "      <th>ME</th>\n",
       "      <th>MAD</th>\n",
       "    </tr>\n",
       "  </thead>\n",
       "  <tbody>\n",
       "    <tr>\n",
       "      <th>0</th>\n",
       "      <td>Linear Regression</td>\n",
       "      <td>0.260591</td>\n",
       "      <td>20.753802</td>\n",
       "      <td>4.555634</td>\n",
       "      <td>0.079661</td>\n",
       "      <td>3.615646</td>\n",
       "      <td>6.444817</td>\n",
       "      <td>0.016262</td>\n",
       "      <td>3.615646</td>\n",
       "    </tr>\n",
       "  </tbody>\n",
       "</table>\n",
       "</div>"
      ],
      "text/plain": [
       "               Model        R²        MSE      RMSE     RMSPE       MAE  \\\n",
       "0  Linear Regression  0.260591  20.753802  4.555634  0.079661  3.615646   \n",
       "\n",
       "       MAPE        ME       MAD  \n",
       "0  6.444817  0.016262  3.615646  "
      ]
     },
     "execution_count": 50,
     "metadata": {},
     "output_type": "execute_result"
    }
   ],
   "source": [
    "lr = LinearRegression()\n",
    "\n",
    "# treino\n",
    "\n",
    "lr.fit(X_train, y_train)\n",
    "\n",
    "\n",
    "# previsão\n",
    "\n",
    "y_pred_lr = lr.predict(X_test)\n",
    "\n",
    "\n",
    "# performance\n",
    "\n",
    "lr_result = ml_error('Linear Regression', y_test, y_pred_lr)\n",
    "lr_result"
   ]
  },
  {
   "cell_type": "code",
   "execution_count": 61,
   "id": "e744a4a6",
   "metadata": {
    "ExecuteTime": {
     "end_time": "2023-05-11T22:41:38.386520Z",
     "start_time": "2023-05-11T22:41:38.075970Z"
    }
   },
   "outputs": [
    {
     "data": {
      "image/png": "[encoded data removed]",
      "text/plain": [
       "<Figure size 432x288 with 1 Axes>"
      ]
     },
     "metadata": {
      "needs_background": "light"
     },
     "output_type": "display_data"
    }
   ],
   "source": [
    "a = lr.coef_\n",
    "b = lr.intercept_\n",
    "\n",
    "plt.plot(X_test, y_test, marker='o', ls='')\n",
    "plt.plot(X_test, a*X_test + b, c='r')\n",
    "plt.xlabel('X_test')\n",
    "plt.ylabel('y_test')\n",
    "plt.show()"
   ]
  },
  {
   "cell_type": "code",
   "execution_count": 62,
   "id": "f0ee2d43",
   "metadata": {
    "ExecuteTime": {
     "end_time": "2023-05-11T22:43:22.411305Z",
     "start_time": "2023-05-11T22:43:22.010901Z"
    }
   },
   "outputs": [
    {
     "data": {
      "text/plain": [
       "Text(0, 0.5, 'Valores previstos')"
      ]
     },
     "execution_count": 62,
     "metadata": {},
     "output_type": "execute_result"
    },
    {
     "data": {
      "image/png": "[encoded data removed]",
      "text/plain": [
       "<Figure size 432x288 with 1 Axes>"
      ]
     },
     "metadata": {
      "needs_background": "light"
     },
     "output_type": "display_data"
    }
   ],
   "source": [
    "plt.scatter(y_test, y_pred_lr)\n",
    "\n",
    "\n",
    "# rótulos dos eixos\n",
    "\n",
    "plt.xlabel('Valores reais')\n",
    "plt.ylabel('Valores previstos')"
   ]
  },
  {
   "cell_type": "markdown",
   "id": "e10dea0b",
   "metadata": {},
   "source": [
    "### Ridge regression"
   ]
  },
  {
   "cell_type": "code",
   "execution_count": 22,
   "id": "ae959b0c",
   "metadata": {
    "ExecuteTime": {
     "end_time": "2023-05-11T21:59:04.512521Z",
     "start_time": "2023-05-11T21:59:04.435383Z"
    }
   },
   "outputs": [
    {
     "data": {
      "text/html": [
       "<div>\n",
       "<style scoped>\n",
       "    .dataframe tbody tr th:only-of-type {\n",
       "        vertical-align: middle;\n",
       "    }\n",
       "\n",
       "    .dataframe tbody tr th {\n",
       "        vertical-align: top;\n",
       "    }\n",
       "\n",
       "    .dataframe thead th {\n",
       "        text-align: right;\n",
       "    }\n",
       "</style>\n",
       "<table border=\"1\" class=\"dataframe\">\n",
       "  <thead>\n",
       "    <tr style=\"text-align: right;\">\n",
       "      <th></th>\n",
       "      <th>Model</th>\n",
       "      <th>R²</th>\n",
       "      <th>MSE</th>\n",
       "      <th>RMSE</th>\n",
       "      <th>RMSPE</th>\n",
       "      <th>MAE</th>\n",
       "      <th>MAPE</th>\n",
       "      <th>ME</th>\n",
       "      <th>MAD</th>\n",
       "    </tr>\n",
       "  </thead>\n",
       "  <tbody>\n",
       "    <tr>\n",
       "      <th>0</th>\n",
       "      <td>Ridge Regression</td>\n",
       "      <td>0.260591</td>\n",
       "      <td>20.753803</td>\n",
       "      <td>4.555634</td>\n",
       "      <td>0.079661</td>\n",
       "      <td>3.615646</td>\n",
       "      <td>6.444817</td>\n",
       "      <td>0.016261</td>\n",
       "      <td>3.615646</td>\n",
       "    </tr>\n",
       "  </tbody>\n",
       "</table>\n",
       "</div>"
      ],
      "text/plain": [
       "              Model        R²        MSE      RMSE     RMSPE       MAE  \\\n",
       "0  Ridge Regression  0.260591  20.753803  4.555634  0.079661  3.615646   \n",
       "\n",
       "       MAPE        ME       MAD  \n",
       "0  6.444817  0.016261  3.615646  "
      ]
     },
     "execution_count": 22,
     "metadata": {},
     "output_type": "execute_result"
    }
   ],
   "source": [
    "rr = Ridge(alpha=2)\n",
    "\n",
    "# treino\n",
    "\n",
    "rr.fit(X_train, y_train)\n",
    "\n",
    "# previsão\n",
    "\n",
    "y_pred_rr = rr.predict(X_test)\n",
    "\n",
    "\n",
    "# performance\n",
    "\n",
    "rr_result = ml_error('Ridge Regression', y_test, y_pred_rr)\n",
    "rr_result"
   ]
  },
  {
   "cell_type": "markdown",
   "id": "4202ced6",
   "metadata": {},
   "source": [
    "### Lasso"
   ]
  },
  {
   "cell_type": "code",
   "execution_count": 23,
   "id": "a27669a2",
   "metadata": {
    "ExecuteTime": {
     "end_time": "2023-05-11T21:59:04.626028Z",
     "start_time": "2023-05-11T21:59:04.553493Z"
    }
   },
   "outputs": [
    {
     "data": {
      "text/html": [
       "<div>\n",
       "<style scoped>\n",
       "    .dataframe tbody tr th:only-of-type {\n",
       "        vertical-align: middle;\n",
       "    }\n",
       "\n",
       "    .dataframe tbody tr th {\n",
       "        vertical-align: top;\n",
       "    }\n",
       "\n",
       "    .dataframe thead th {\n",
       "        text-align: right;\n",
       "    }\n",
       "</style>\n",
       "<table border=\"1\" class=\"dataframe\">\n",
       "  <thead>\n",
       "    <tr style=\"text-align: right;\">\n",
       "      <th></th>\n",
       "      <th>Model</th>\n",
       "      <th>R²</th>\n",
       "      <th>MSE</th>\n",
       "      <th>RMSE</th>\n",
       "      <th>RMSPE</th>\n",
       "      <th>MAE</th>\n",
       "      <th>MAPE</th>\n",
       "      <th>ME</th>\n",
       "      <th>MAD</th>\n",
       "    </tr>\n",
       "  </thead>\n",
       "  <tbody>\n",
       "    <tr>\n",
       "      <th>0</th>\n",
       "      <td>Lasso</td>\n",
       "      <td>0.260583</td>\n",
       "      <td>20.754024</td>\n",
       "      <td>4.555658</td>\n",
       "      <td>0.079661</td>\n",
       "      <td>3.615629</td>\n",
       "      <td>6.444822</td>\n",
       "      <td>0.016246</td>\n",
       "      <td>3.615629</td>\n",
       "    </tr>\n",
       "  </tbody>\n",
       "</table>\n",
       "</div>"
      ],
      "text/plain": [
       "   Model        R²        MSE      RMSE     RMSPE       MAE      MAPE  \\\n",
       "0  Lasso  0.260583  20.754024  4.555658  0.079661  3.615629  6.444822   \n",
       "\n",
       "         ME       MAD  \n",
       "0  0.016246  3.615629  "
      ]
     },
     "execution_count": 23,
     "metadata": {},
     "output_type": "execute_result"
    }
   ],
   "source": [
    "lrr = Lasso(alpha=0.01)\n",
    "\n",
    "# treino\n",
    "\n",
    "lrr.fit(X_train, y_train)\n",
    "\n",
    "# previsão\n",
    "\n",
    "y_pred_lrr = lrr.predict(X_test)\n",
    "\n",
    "\n",
    "# performance\n",
    "\n",
    "lrr_result = ml_error('Lasso', y_test, y_pred_lrr)\n",
    "lrr_result"
   ]
  },
  {
   "cell_type": "markdown",
   "id": "84817229",
   "metadata": {},
   "source": [
    "### ElasticNet"
   ]
  },
  {
   "cell_type": "code",
   "execution_count": 27,
   "id": "0575e971",
   "metadata": {
    "ExecuteTime": {
     "end_time": "2023-05-11T22:02:35.128283Z",
     "start_time": "2023-05-11T22:02:35.052132Z"
    }
   },
   "outputs": [
    {
     "data": {
      "text/html": [
       "<div>\n",
       "<style scoped>\n",
       "    .dataframe tbody tr th:only-of-type {\n",
       "        vertical-align: middle;\n",
       "    }\n",
       "\n",
       "    .dataframe tbody tr th {\n",
       "        vertical-align: top;\n",
       "    }\n",
       "\n",
       "    .dataframe thead th {\n",
       "        text-align: right;\n",
       "    }\n",
       "</style>\n",
       "<table border=\"1\" class=\"dataframe\">\n",
       "  <thead>\n",
       "    <tr style=\"text-align: right;\">\n",
       "      <th></th>\n",
       "      <th>Model</th>\n",
       "      <th>R²</th>\n",
       "      <th>MSE</th>\n",
       "      <th>RMSE</th>\n",
       "      <th>RMSPE</th>\n",
       "      <th>MAE</th>\n",
       "      <th>MAPE</th>\n",
       "      <th>ME</th>\n",
       "      <th>MAD</th>\n",
       "    </tr>\n",
       "  </thead>\n",
       "  <tbody>\n",
       "    <tr>\n",
       "      <th>0</th>\n",
       "      <td>ElasticNet</td>\n",
       "      <td>0.259108</td>\n",
       "      <td>20.795442</td>\n",
       "      <td>4.560202</td>\n",
       "      <td>0.07974</td>\n",
       "      <td>3.617083</td>\n",
       "      <td>6.449784</td>\n",
       "      <td>0.015117</td>\n",
       "      <td>3.617083</td>\n",
       "    </tr>\n",
       "  </tbody>\n",
       "</table>\n",
       "</div>"
      ],
      "text/plain": [
       "        Model        R²        MSE      RMSE    RMSPE       MAE      MAPE  \\\n",
       "0  ElasticNet  0.259108  20.795442  4.560202  0.07974  3.617083  6.449784   \n",
       "\n",
       "         ME       MAD  \n",
       "0  0.015117  3.617083  "
      ]
     },
     "execution_count": 27,
     "metadata": {},
     "output_type": "execute_result"
    }
   ],
   "source": [
    "en = ElasticNet()\n",
    "\n",
    "# treino\n",
    "\n",
    "en.fit(X_train, y_train)\n",
    "\n",
    "# previsão\n",
    "\n",
    "y_pred_en = en.predict(X_test)\n",
    "\n",
    "\n",
    "# performance\n",
    "\n",
    "en_result = ml_error('ElasticNet', y_test, y_pred_en)\n",
    "en_result"
   ]
  },
  {
   "cell_type": "markdown",
   "id": "70f5cb6b",
   "metadata": {},
   "source": [
    "### SVM"
   ]
  },
  {
   "cell_type": "code",
   "execution_count": 25,
   "id": "618b9843",
   "metadata": {
    "ExecuteTime": {
     "end_time": "2023-05-11T21:59:33.428923Z",
     "start_time": "2023-05-11T21:59:04.668303Z"
    }
   },
   "outputs": [
    {
     "data": {
      "text/html": [
       "<div>\n",
       "<style scoped>\n",
       "    .dataframe tbody tr th:only-of-type {\n",
       "        vertical-align: middle;\n",
       "    }\n",
       "\n",
       "    .dataframe tbody tr th {\n",
       "        vertical-align: top;\n",
       "    }\n",
       "\n",
       "    .dataframe thead th {\n",
       "        text-align: right;\n",
       "    }\n",
       "</style>\n",
       "<table border=\"1\" class=\"dataframe\">\n",
       "  <thead>\n",
       "    <tr style=\"text-align: right;\">\n",
       "      <th></th>\n",
       "      <th>Model</th>\n",
       "      <th>R²</th>\n",
       "      <th>MSE</th>\n",
       "      <th>RMSE</th>\n",
       "      <th>RMSPE</th>\n",
       "      <th>MAE</th>\n",
       "      <th>MAPE</th>\n",
       "      <th>ME</th>\n",
       "      <th>MAD</th>\n",
       "    </tr>\n",
       "  </thead>\n",
       "  <tbody>\n",
       "    <tr>\n",
       "      <th>0</th>\n",
       "      <td>SVM</td>\n",
       "      <td>0.260503</td>\n",
       "      <td>20.756277</td>\n",
       "      <td>4.555906</td>\n",
       "      <td>0.079665</td>\n",
       "      <td>3.615386</td>\n",
       "      <td>6.443024</td>\n",
       "      <td>0.001224</td>\n",
       "      <td>3.615386</td>\n",
       "    </tr>\n",
       "  </tbody>\n",
       "</table>\n",
       "</div>"
      ],
      "text/plain": [
       "  Model        R²        MSE      RMSE     RMSPE       MAE      MAPE  \\\n",
       "0   SVM  0.260503  20.756277  4.555906  0.079665  3.615386  6.443024   \n",
       "\n",
       "         ME       MAD  \n",
       "0  0.001224  3.615386  "
      ]
     },
     "execution_count": 25,
     "metadata": {},
     "output_type": "execute_result"
    }
   ],
   "source": [
    "svm = SVR(kernel='linear')\n",
    "\n",
    "# treino\n",
    "\n",
    "svm.fit(X_train, y_train)\n",
    "\n",
    "# previsão\n",
    "\n",
    "y_pred_svm = svm.predict(X_test)\n",
    "\n",
    "# performance\n",
    "\n",
    "svm_result = ml_error('SVM', y_test, y_pred_svm)\n",
    "svm_result"
   ]
  }
 ],
 "metadata": {
  "kernelspec": {
   "display_name": "Python 3 (ipykernel)",
   "language": "python",
   "name": "python3"
  },
  "language_info": {
   "codemirror_mode": {
    "name": "ipython",
    "version": 3
   },
   "file_extension": ".py",
   "mimetype": "text/x-python",
   "name": "python",
   "nbconvert_exporter": "python",
   "pygments_lexer": "ipython3",
   "version": "3.10.6"
  },
  "varInspector": {
   "cols": {
    "lenName": 16,
    "lenType": 16,
    "lenVar": 40
   },
   "kernels_config": {
    "python": {
     "delete_cmd_postfix": "",
     "delete_cmd_prefix": "del ",
     "library": "var_list.py",
     "varRefreshCmd": "print(var_dic_list())"
    },
    "r": {
     "delete_cmd_postfix": ") ",
     "delete_cmd_prefix": "rm(",
     "library": "var_list.r",
     "varRefreshCmd": "cat(var_dic_list()) "
    }
   },
   "types_to_exclude": [
    "module",
    "function",
    "builtin_function_or_method",
    "instance",
    "_Feature"
   ],
   "window_display": false
  }
 },
 "nbformat": 4,
 "nbformat_minor": 5
}
